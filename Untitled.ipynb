{
 "cells": [
  {
   "cell_type": "code",
   "execution_count": 52,
   "id": "9be78e0d",
   "metadata": {},
   "outputs": [],
   "source": [
    "# Importing some of the library\n",
    "%matplotlib inline\n",
    "import numpy as np\n",
    "import pandas as pd\n",
    "import seaborn as sns\n",
    "import matplotlib.pyplot as plt\n",
    "from sklearn.model_selection import train_test_split\n",
    "from sklearn.model_selection import GridSearchCV\n",
    "from sklearn.metrics import accuracy_score, make_scorer\n",
    "from sklearn.metrics import f1_score"
   ]
  },
  {
   "cell_type": "code",
   "execution_count": 53,
   "id": "6e0d0afe",
   "metadata": {},
   "outputs": [
    {
     "data": {
      "text/html": [
       "<div>\n",
       "<style scoped>\n",
       "    .dataframe tbody tr th:only-of-type {\n",
       "        vertical-align: middle;\n",
       "    }\n",
       "\n",
       "    .dataframe tbody tr th {\n",
       "        vertical-align: top;\n",
       "    }\n",
       "\n",
       "    .dataframe thead th {\n",
       "        text-align: right;\n",
       "    }\n",
       "</style>\n",
       "<table border=\"1\" class=\"dataframe\">\n",
       "  <thead>\n",
       "    <tr style=\"text-align: right;\">\n",
       "      <th></th>\n",
       "      <th>CustomerID</th>\n",
       "      <th>Age</th>\n",
       "      <th>Gender</th>\n",
       "      <th>City</th>\n",
       "      <th>State</th>\n",
       "      <th>No_of_orders_placed</th>\n",
       "      <th>Sign_up_date</th>\n",
       "      <th>Last_order_placed_date</th>\n",
       "      <th>is_premium_member</th>\n",
       "      <th>Women’s_Clothing</th>\n",
       "      <th>Men’s_Clothing</th>\n",
       "      <th>Kid’s_Clothing</th>\n",
       "      <th>Home_&amp;_Living</th>\n",
       "      <th>Beauty</th>\n",
       "      <th>Electronics</th>\n",
       "      <th>Preferred_Theme</th>\n",
       "    </tr>\n",
       "  </thead>\n",
       "  <tbody>\n",
       "    <tr>\n",
       "      <th>0</th>\n",
       "      <td>CusID_00126</td>\n",
       "      <td>22.0</td>\n",
       "      <td>Male</td>\n",
       "      <td>Vancouver</td>\n",
       "      <td>British Columbia</td>\n",
       "      <td>4.0</td>\n",
       "      <td>2017-06-23</td>\n",
       "      <td>2021-04-01</td>\n",
       "      <td>0</td>\n",
       "      <td>2.945701</td>\n",
       "      <td>8.924431</td>\n",
       "      <td>2.000000</td>\n",
       "      <td>2.325376</td>\n",
       "      <td>1.924891</td>\n",
       "      <td>9.820254</td>\n",
       "      <td>New_UI</td>\n",
       "    </tr>\n",
       "    <tr>\n",
       "      <th>1</th>\n",
       "      <td>CusID_00927</td>\n",
       "      <td>NaN</td>\n",
       "      <td>Female</td>\n",
       "      <td>Budapest</td>\n",
       "      <td>Central Hungary</td>\n",
       "      <td>9.0</td>\n",
       "      <td>2018-05-21</td>\n",
       "      <td>2020-01-26</td>\n",
       "      <td>0</td>\n",
       "      <td>6.115229</td>\n",
       "      <td>2.363926</td>\n",
       "      <td>6.968752</td>\n",
       "      <td>7.355854</td>\n",
       "      <td>8.561461</td>\n",
       "      <td>2.162229</td>\n",
       "      <td>Old_UI</td>\n",
       "    </tr>\n",
       "    <tr>\n",
       "      <th>2</th>\n",
       "      <td>CusID_01646</td>\n",
       "      <td>26.0</td>\n",
       "      <td>Male</td>\n",
       "      <td>Mumbai</td>\n",
       "      <td>Maharashtra</td>\n",
       "      <td>NaN</td>\n",
       "      <td>2019-02-15</td>\n",
       "      <td>2020-11-28</td>\n",
       "      <td>0</td>\n",
       "      <td>1.000000</td>\n",
       "      <td>3.000000</td>\n",
       "      <td>1.766530</td>\n",
       "      <td>3.471802</td>\n",
       "      <td>0.808147</td>\n",
       "      <td>9.055563</td>\n",
       "      <td>New_UI</td>\n",
       "    </tr>\n",
       "    <tr>\n",
       "      <th>3</th>\n",
       "      <td>CusID_06228</td>\n",
       "      <td>NaN</td>\n",
       "      <td>Male</td>\n",
       "      <td>San Francisco</td>\n",
       "      <td>California</td>\n",
       "      <td>7.0</td>\n",
       "      <td>2019-07-18</td>\n",
       "      <td>2020-11-16</td>\n",
       "      <td>0</td>\n",
       "      <td>2.116475</td>\n",
       "      <td>9.064060</td>\n",
       "      <td>5.387599</td>\n",
       "      <td>NaN</td>\n",
       "      <td>0.459090</td>\n",
       "      <td>7.343461</td>\n",
       "      <td>New_UI</td>\n",
       "    </tr>\n",
       "    <tr>\n",
       "      <th>4</th>\n",
       "      <td>CusID_04239</td>\n",
       "      <td>29.0</td>\n",
       "      <td>Female</td>\n",
       "      <td>Taipei</td>\n",
       "      <td>Taiwan</td>\n",
       "      <td>NaN</td>\n",
       "      <td>2018-02-05</td>\n",
       "      <td>2020-03-12</td>\n",
       "      <td>0</td>\n",
       "      <td>7.352878</td>\n",
       "      <td>1.995744</td>\n",
       "      <td>2.676853</td>\n",
       "      <td>7.159554</td>\n",
       "      <td>8.184695</td>\n",
       "      <td>2.000000</td>\n",
       "      <td>Old_UI</td>\n",
       "    </tr>\n",
       "    <tr>\n",
       "      <th>...</th>\n",
       "      <td>...</td>\n",
       "      <td>...</td>\n",
       "      <td>...</td>\n",
       "      <td>...</td>\n",
       "      <td>...</td>\n",
       "      <td>...</td>\n",
       "      <td>...</td>\n",
       "      <td>...</td>\n",
       "      <td>...</td>\n",
       "      <td>...</td>\n",
       "      <td>...</td>\n",
       "      <td>...</td>\n",
       "      <td>...</td>\n",
       "      <td>...</td>\n",
       "      <td>...</td>\n",
       "      <td>...</td>\n",
       "    </tr>\n",
       "    <tr>\n",
       "      <th>15145</th>\n",
       "      <td>CusID_01855</td>\n",
       "      <td>28.0</td>\n",
       "      <td>Not_Specified</td>\n",
       "      <td>Kolkata</td>\n",
       "      <td>New South Wales</td>\n",
       "      <td>6.0</td>\n",
       "      <td>2017-11-18</td>\n",
       "      <td>2020-07-24</td>\n",
       "      <td>0</td>\n",
       "      <td>1.074235</td>\n",
       "      <td>3.328216</td>\n",
       "      <td>9.075440</td>\n",
       "      <td>5.929733</td>\n",
       "      <td>2.081818</td>\n",
       "      <td>4.225626</td>\n",
       "      <td>Old_UI</td>\n",
       "    </tr>\n",
       "    <tr>\n",
       "      <th>15146</th>\n",
       "      <td>CusID_08497</td>\n",
       "      <td>25.0</td>\n",
       "      <td>Male</td>\n",
       "      <td>Sydney</td>\n",
       "      <td>New South Wales</td>\n",
       "      <td>8.0</td>\n",
       "      <td>2017-09-26</td>\n",
       "      <td>2020-03-11</td>\n",
       "      <td>0</td>\n",
       "      <td>0.604496</td>\n",
       "      <td>6.349027</td>\n",
       "      <td>0.413908</td>\n",
       "      <td>4.159025</td>\n",
       "      <td>1.214793</td>\n",
       "      <td>8.482181</td>\n",
       "      <td>New_UI</td>\n",
       "    </tr>\n",
       "    <tr>\n",
       "      <th>15147</th>\n",
       "      <td>CusID_01667</td>\n",
       "      <td>32.0</td>\n",
       "      <td>Female</td>\n",
       "      <td>San Francisco</td>\n",
       "      <td>Singapore</td>\n",
       "      <td>7.0</td>\n",
       "      <td>2018-06-09</td>\n",
       "      <td>2021-04-05</td>\n",
       "      <td>1</td>\n",
       "      <td>3.812781</td>\n",
       "      <td>2.869684</td>\n",
       "      <td>6.213548</td>\n",
       "      <td>NaN</td>\n",
       "      <td>7.477459</td>\n",
       "      <td>2.861971</td>\n",
       "      <td>Old_UI</td>\n",
       "    </tr>\n",
       "    <tr>\n",
       "      <th>15148</th>\n",
       "      <td>CusID_09014</td>\n",
       "      <td>32.0</td>\n",
       "      <td>Female</td>\n",
       "      <td>Sydney</td>\n",
       "      <td>New Delhi</td>\n",
       "      <td>10.0</td>\n",
       "      <td>2016-01-23</td>\n",
       "      <td>2020-08-23</td>\n",
       "      <td>0</td>\n",
       "      <td>4.607484</td>\n",
       "      <td>1.370857</td>\n",
       "      <td>6.108666</td>\n",
       "      <td>7.324654</td>\n",
       "      <td>7.748538</td>\n",
       "      <td>5.009866</td>\n",
       "      <td>New_UI</td>\n",
       "    </tr>\n",
       "    <tr>\n",
       "      <th>15149</th>\n",
       "      <td>CusID_02218</td>\n",
       "      <td>22.0</td>\n",
       "      <td>Not_Specified</td>\n",
       "      <td>Berlin</td>\n",
       "      <td>Berlin</td>\n",
       "      <td>1.0</td>\n",
       "      <td>2019-02-19</td>\n",
       "      <td>2020-01-15</td>\n",
       "      <td>1</td>\n",
       "      <td>4.232741</td>\n",
       "      <td>2.020077</td>\n",
       "      <td>5.651068</td>\n",
       "      <td>3.103405</td>\n",
       "      <td>4.312872</td>\n",
       "      <td>2.728655</td>\n",
       "      <td>Old_UI</td>\n",
       "    </tr>\n",
       "  </tbody>\n",
       "</table>\n",
       "<p>15150 rows × 16 columns</p>\n",
       "</div>"
      ],
      "text/plain": [
       "        CustomerID   Age         Gender           City             State  \\\n",
       "0      CusID_00126  22.0           Male      Vancouver  British Columbia   \n",
       "1      CusID_00927   NaN         Female       Budapest   Central Hungary   \n",
       "2      CusID_01646  26.0           Male         Mumbai       Maharashtra   \n",
       "3      CusID_06228   NaN           Male  San Francisco        California   \n",
       "4      CusID_04239  29.0         Female         Taipei            Taiwan   \n",
       "...            ...   ...            ...            ...               ...   \n",
       "15145  CusID_01855  28.0  Not_Specified        Kolkata   New South Wales   \n",
       "15146  CusID_08497  25.0           Male         Sydney   New South Wales   \n",
       "15147  CusID_01667  32.0         Female  San Francisco         Singapore   \n",
       "15148  CusID_09014  32.0         Female         Sydney         New Delhi   \n",
       "15149  CusID_02218  22.0  Not_Specified         Berlin            Berlin   \n",
       "\n",
       "       No_of_orders_placed Sign_up_date Last_order_placed_date  \\\n",
       "0                      4.0   2017-06-23             2021-04-01   \n",
       "1                      9.0   2018-05-21             2020-01-26   \n",
       "2                      NaN   2019-02-15             2020-11-28   \n",
       "3                      7.0   2019-07-18             2020-11-16   \n",
       "4                      NaN   2018-02-05             2020-03-12   \n",
       "...                    ...          ...                    ...   \n",
       "15145                  6.0   2017-11-18             2020-07-24   \n",
       "15146                  8.0   2017-09-26             2020-03-11   \n",
       "15147                  7.0   2018-06-09             2021-04-05   \n",
       "15148                 10.0   2016-01-23             2020-08-23   \n",
       "15149                  1.0   2019-02-19             2020-01-15   \n",
       "\n",
       "       is_premium_member  Women’s_Clothing  Men’s_Clothing  Kid’s_Clothing  \\\n",
       "0                      0          2.945701        8.924431        2.000000   \n",
       "1                      0          6.115229        2.363926        6.968752   \n",
       "2                      0          1.000000        3.000000        1.766530   \n",
       "3                      0          2.116475        9.064060        5.387599   \n",
       "4                      0          7.352878        1.995744        2.676853   \n",
       "...                  ...               ...             ...             ...   \n",
       "15145                  0          1.074235        3.328216        9.075440   \n",
       "15146                  0          0.604496        6.349027        0.413908   \n",
       "15147                  1          3.812781        2.869684        6.213548   \n",
       "15148                  0          4.607484        1.370857        6.108666   \n",
       "15149                  1          4.232741        2.020077        5.651068   \n",
       "\n",
       "       Home_&_Living    Beauty  Electronics Preferred_Theme  \n",
       "0           2.325376  1.924891     9.820254          New_UI  \n",
       "1           7.355854  8.561461     2.162229          Old_UI  \n",
       "2           3.471802  0.808147     9.055563          New_UI  \n",
       "3                NaN  0.459090     7.343461          New_UI  \n",
       "4           7.159554  8.184695     2.000000          Old_UI  \n",
       "...              ...       ...          ...             ...  \n",
       "15145       5.929733  2.081818     4.225626          Old_UI  \n",
       "15146       4.159025  1.214793     8.482181          New_UI  \n",
       "15147            NaN  7.477459     2.861971          Old_UI  \n",
       "15148       7.324654  7.748538     5.009866          New_UI  \n",
       "15149       3.103405  4.312872     2.728655          Old_UI  \n",
       "\n",
       "[15150 rows x 16 columns]"
      ]
     },
     "execution_count": 53,
     "metadata": {},
     "output_type": "execute_result"
    }
   ],
   "source": [
    "# Reading the dataframe\n",
    "df=pd.read_csv(\"train.csv\")\n",
    "df"
   ]
  },
  {
   "cell_type": "code",
   "execution_count": 54,
   "id": "4cb8387d",
   "metadata": {},
   "outputs": [
    {
     "name": "stdout",
     "output_type": "stream",
     "text": [
      "<class 'pandas.core.frame.DataFrame'>\n",
      "RangeIndex: 15150 entries, 0 to 15149\n",
      "Data columns (total 16 columns):\n",
      " #   Column                  Non-Null Count  Dtype  \n",
      "---  ------                  --------------  -----  \n",
      " 0   CustomerID              15150 non-null  object \n",
      " 1   Age                     14147 non-null  float64\n",
      " 2   Gender                  15150 non-null  object \n",
      " 3   City                    15150 non-null  object \n",
      " 4   State                   15150 non-null  object \n",
      " 5   No_of_orders_placed     14377 non-null  float64\n",
      " 6   Sign_up_date            15150 non-null  object \n",
      " 7   Last_order_placed_date  15150 non-null  object \n",
      " 8   is_premium_member       15150 non-null  int64  \n",
      " 9   Women’s_Clothing        15150 non-null  float64\n",
      " 10  Men’s_Clothing          15150 non-null  float64\n",
      " 11  Kid’s_Clothing          14215 non-null  float64\n",
      " 12  Home_&_Living           14302 non-null  float64\n",
      " 13  Beauty                  15150 non-null  float64\n",
      " 14  Electronics             15150 non-null  float64\n",
      " 15  Preferred_Theme         15150 non-null  object \n",
      "dtypes: float64(8), int64(1), object(7)\n",
      "memory usage: 1.8+ MB\n"
     ]
    }
   ],
   "source": [
    "df.info()"
   ]
  },
  {
   "cell_type": "code",
   "execution_count": 55,
   "id": "d45edc40",
   "metadata": {},
   "outputs": [
    {
     "data": {
      "text/plain": [
       "<AxesSubplot:>"
      ]
     },
     "execution_count": 55,
     "metadata": {},
     "output_type": "execute_result"
    },
    {
     "data": {
      "image/png": "[encoded data removed]",
      "text/plain": [
       "<Figure size 432x288 with 2 Axes>"
      ]
     },
     "metadata": {
      "needs_background": "light"
     },
     "output_type": "display_data"
    }
   ],
   "source": [
    "# If here any of the feature has a lot of NaN present then I can drop that feature\n",
    "sns.heatmap(df.isnull(),yticklabels=False,cmap='viridis')"
   ]
  },
  {
   "cell_type": "markdown",
   "id": "f783cbbd",
   "metadata": {},
   "source": [
    "## Now I have to deal with missing values\n",
    "### 1. Age"
   ]
  },
  {
   "cell_type": "code",
   "execution_count": 56,
   "id": "5fadcbd8",
   "metadata": {
    "scrolled": true
   },
   "outputs": [
    {
     "data": {
      "text/html": [
       "<div>\n",
       "<style scoped>\n",
       "    .dataframe tbody tr th:only-of-type {\n",
       "        vertical-align: middle;\n",
       "    }\n",
       "\n",
       "    .dataframe tbody tr th {\n",
       "        vertical-align: top;\n",
       "    }\n",
       "\n",
       "    .dataframe thead th {\n",
       "        text-align: right;\n",
       "    }\n",
       "</style>\n",
       "<table border=\"1\" class=\"dataframe\">\n",
       "  <thead>\n",
       "    <tr style=\"text-align: right;\">\n",
       "      <th></th>\n",
       "      <th>index</th>\n",
       "      <th>Age</th>\n",
       "    </tr>\n",
       "  </thead>\n",
       "  <tbody>\n",
       "    <tr>\n",
       "      <th>0</th>\n",
       "      <td>15.0</td>\n",
       "      <td>410</td>\n",
       "    </tr>\n",
       "    <tr>\n",
       "      <th>1</th>\n",
       "      <td>16.0</td>\n",
       "      <td>281</td>\n",
       "    </tr>\n",
       "    <tr>\n",
       "      <th>2</th>\n",
       "      <td>17.0</td>\n",
       "      <td>294</td>\n",
       "    </tr>\n",
       "    <tr>\n",
       "      <th>3</th>\n",
       "      <td>18.0</td>\n",
       "      <td>359</td>\n",
       "    </tr>\n",
       "    <tr>\n",
       "      <th>4</th>\n",
       "      <td>19.0</td>\n",
       "      <td>496</td>\n",
       "    </tr>\n",
       "  </tbody>\n",
       "</table>\n",
       "</div>"
      ],
      "text/plain": [
       "   index  Age\n",
       "0   15.0  410\n",
       "1   16.0  281\n",
       "2   17.0  294\n",
       "3   18.0  359\n",
       "4   19.0  496"
      ]
     },
     "execution_count": 56,
     "metadata": {},
     "output_type": "execute_result"
    }
   ],
   "source": [
    "df_Age=df.Age.value_counts().sort_index().reset_index()\n",
    "df_Age.head()"
   ]
  },
  {
   "cell_type": "code",
   "execution_count": 57,
   "id": "f31a9d67",
   "metadata": {},
   "outputs": [],
   "source": [
    "# For Age feature I can take average and put instant of NaN. Because I have age range between 15 to 50.\n",
    "# Also the distribution is not uniform. So I will wetted average.\n",
    "Age_Total=df_Age.Age.sum()\n",
    "df_Age[\"Age_Weightage\"]=df_Age[\"Age\"]/Age_Total\n",
    "df_Age[\"Age_Weightage\"]*=df_Age['index']\n",
    "Avg_Age=int(df_Age.Age_Weightage.sum())"
   ]
  },
  {
   "cell_type": "code",
   "execution_count": 58,
   "id": "2c384d77",
   "metadata": {},
   "outputs": [
    {
     "data": {
      "text/html": [
       "<div>\n",
       "<style scoped>\n",
       "    .dataframe tbody tr th:only-of-type {\n",
       "        vertical-align: middle;\n",
       "    }\n",
       "\n",
       "    .dataframe tbody tr th {\n",
       "        vertical-align: top;\n",
       "    }\n",
       "\n",
       "    .dataframe thead th {\n",
       "        text-align: right;\n",
       "    }\n",
       "</style>\n",
       "<table border=\"1\" class=\"dataframe\">\n",
       "  <thead>\n",
       "    <tr style=\"text-align: right;\">\n",
       "      <th></th>\n",
       "      <th>CustomerID</th>\n",
       "      <th>Age</th>\n",
       "      <th>Gender</th>\n",
       "      <th>City</th>\n",
       "      <th>State</th>\n",
       "      <th>No_of_orders_placed</th>\n",
       "      <th>Sign_up_date</th>\n",
       "      <th>Last_order_placed_date</th>\n",
       "      <th>is_premium_member</th>\n",
       "      <th>Women’s_Clothing</th>\n",
       "      <th>Men’s_Clothing</th>\n",
       "      <th>Kid’s_Clothing</th>\n",
       "      <th>Home_&amp;_Living</th>\n",
       "      <th>Beauty</th>\n",
       "      <th>Electronics</th>\n",
       "      <th>Preferred_Theme</th>\n",
       "    </tr>\n",
       "  </thead>\n",
       "  <tbody>\n",
       "    <tr>\n",
       "      <th>0</th>\n",
       "      <td>CusID_00126</td>\n",
       "      <td>22.0</td>\n",
       "      <td>Male</td>\n",
       "      <td>Vancouver</td>\n",
       "      <td>British Columbia</td>\n",
       "      <td>4.0</td>\n",
       "      <td>2017-06-23</td>\n",
       "      <td>2021-04-01</td>\n",
       "      <td>0</td>\n",
       "      <td>2.945701</td>\n",
       "      <td>8.924431</td>\n",
       "      <td>2.000000</td>\n",
       "      <td>2.325376</td>\n",
       "      <td>1.924891</td>\n",
       "      <td>9.820254</td>\n",
       "      <td>New_UI</td>\n",
       "    </tr>\n",
       "    <tr>\n",
       "      <th>1</th>\n",
       "      <td>CusID_00927</td>\n",
       "      <td>28.0</td>\n",
       "      <td>Female</td>\n",
       "      <td>Budapest</td>\n",
       "      <td>Central Hungary</td>\n",
       "      <td>9.0</td>\n",
       "      <td>2018-05-21</td>\n",
       "      <td>2020-01-26</td>\n",
       "      <td>0</td>\n",
       "      <td>6.115229</td>\n",
       "      <td>2.363926</td>\n",
       "      <td>6.968752</td>\n",
       "      <td>7.355854</td>\n",
       "      <td>8.561461</td>\n",
       "      <td>2.162229</td>\n",
       "      <td>Old_UI</td>\n",
       "    </tr>\n",
       "    <tr>\n",
       "      <th>2</th>\n",
       "      <td>CusID_01646</td>\n",
       "      <td>26.0</td>\n",
       "      <td>Male</td>\n",
       "      <td>Mumbai</td>\n",
       "      <td>Maharashtra</td>\n",
       "      <td>NaN</td>\n",
       "      <td>2019-02-15</td>\n",
       "      <td>2020-11-28</td>\n",
       "      <td>0</td>\n",
       "      <td>1.000000</td>\n",
       "      <td>3.000000</td>\n",
       "      <td>1.766530</td>\n",
       "      <td>3.471802</td>\n",
       "      <td>0.808147</td>\n",
       "      <td>9.055563</td>\n",
       "      <td>New_UI</td>\n",
       "    </tr>\n",
       "    <tr>\n",
       "      <th>3</th>\n",
       "      <td>CusID_06228</td>\n",
       "      <td>28.0</td>\n",
       "      <td>Male</td>\n",
       "      <td>San Francisco</td>\n",
       "      <td>California</td>\n",
       "      <td>7.0</td>\n",
       "      <td>2019-07-18</td>\n",
       "      <td>2020-11-16</td>\n",
       "      <td>0</td>\n",
       "      <td>2.116475</td>\n",
       "      <td>9.064060</td>\n",
       "      <td>5.387599</td>\n",
       "      <td>NaN</td>\n",
       "      <td>0.459090</td>\n",
       "      <td>7.343461</td>\n",
       "      <td>New_UI</td>\n",
       "    </tr>\n",
       "    <tr>\n",
       "      <th>4</th>\n",
       "      <td>CusID_04239</td>\n",
       "      <td>29.0</td>\n",
       "      <td>Female</td>\n",
       "      <td>Taipei</td>\n",
       "      <td>Taiwan</td>\n",
       "      <td>NaN</td>\n",
       "      <td>2018-02-05</td>\n",
       "      <td>2020-03-12</td>\n",
       "      <td>0</td>\n",
       "      <td>7.352878</td>\n",
       "      <td>1.995744</td>\n",
       "      <td>2.676853</td>\n",
       "      <td>7.159554</td>\n",
       "      <td>8.184695</td>\n",
       "      <td>2.000000</td>\n",
       "      <td>Old_UI</td>\n",
       "    </tr>\n",
       "    <tr>\n",
       "      <th>...</th>\n",
       "      <td>...</td>\n",
       "      <td>...</td>\n",
       "      <td>...</td>\n",
       "      <td>...</td>\n",
       "      <td>...</td>\n",
       "      <td>...</td>\n",
       "      <td>...</td>\n",
       "      <td>...</td>\n",
       "      <td>...</td>\n",
       "      <td>...</td>\n",
       "      <td>...</td>\n",
       "      <td>...</td>\n",
       "      <td>...</td>\n",
       "      <td>...</td>\n",
       "      <td>...</td>\n",
       "      <td>...</td>\n",
       "    </tr>\n",
       "    <tr>\n",
       "      <th>15145</th>\n",
       "      <td>CusID_01855</td>\n",
       "      <td>28.0</td>\n",
       "      <td>Not_Specified</td>\n",
       "      <td>Kolkata</td>\n",
       "      <td>New South Wales</td>\n",
       "      <td>6.0</td>\n",
       "      <td>2017-11-18</td>\n",
       "      <td>2020-07-24</td>\n",
       "      <td>0</td>\n",
       "      <td>1.074235</td>\n",
       "      <td>3.328216</td>\n",
       "      <td>9.075440</td>\n",
       "      <td>5.929733</td>\n",
       "      <td>2.081818</td>\n",
       "      <td>4.225626</td>\n",
       "      <td>Old_UI</td>\n",
       "    </tr>\n",
       "    <tr>\n",
       "      <th>15146</th>\n",
       "      <td>CusID_08497</td>\n",
       "      <td>25.0</td>\n",
       "      <td>Male</td>\n",
       "      <td>Sydney</td>\n",
       "      <td>New South Wales</td>\n",
       "      <td>8.0</td>\n",
       "      <td>2017-09-26</td>\n",
       "      <td>2020-03-11</td>\n",
       "      <td>0</td>\n",
       "      <td>0.604496</td>\n",
       "      <td>6.349027</td>\n",
       "      <td>0.413908</td>\n",
       "      <td>4.159025</td>\n",
       "      <td>1.214793</td>\n",
       "      <td>8.482181</td>\n",
       "      <td>New_UI</td>\n",
       "    </tr>\n",
       "    <tr>\n",
       "      <th>15147</th>\n",
       "      <td>CusID_01667</td>\n",
       "      <td>32.0</td>\n",
       "      <td>Female</td>\n",
       "      <td>San Francisco</td>\n",
       "      <td>Singapore</td>\n",
       "      <td>7.0</td>\n",
       "      <td>2018-06-09</td>\n",
       "      <td>2021-04-05</td>\n",
       "      <td>1</td>\n",
       "      <td>3.812781</td>\n",
       "      <td>2.869684</td>\n",
       "      <td>6.213548</td>\n",
       "      <td>NaN</td>\n",
       "      <td>7.477459</td>\n",
       "      <td>2.861971</td>\n",
       "      <td>Old_UI</td>\n",
       "    </tr>\n",
       "    <tr>\n",
       "      <th>15148</th>\n",
       "      <td>CusID_09014</td>\n",
       "      <td>32.0</td>\n",
       "      <td>Female</td>\n",
       "      <td>Sydney</td>\n",
       "      <td>New Delhi</td>\n",
       "      <td>10.0</td>\n",
       "      <td>2016-01-23</td>\n",
       "      <td>2020-08-23</td>\n",
       "      <td>0</td>\n",
       "      <td>4.607484</td>\n",
       "      <td>1.370857</td>\n",
       "      <td>6.108666</td>\n",
       "      <td>7.324654</td>\n",
       "      <td>7.748538</td>\n",
       "      <td>5.009866</td>\n",
       "      <td>New_UI</td>\n",
       "    </tr>\n",
       "    <tr>\n",
       "      <th>15149</th>\n",
       "      <td>CusID_02218</td>\n",
       "      <td>22.0</td>\n",
       "      <td>Not_Specified</td>\n",
       "      <td>Berlin</td>\n",
       "      <td>Berlin</td>\n",
       "      <td>1.0</td>\n",
       "      <td>2019-02-19</td>\n",
       "      <td>2020-01-15</td>\n",
       "      <td>1</td>\n",
       "      <td>4.232741</td>\n",
       "      <td>2.020077</td>\n",
       "      <td>5.651068</td>\n",
       "      <td>3.103405</td>\n",
       "      <td>4.312872</td>\n",
       "      <td>2.728655</td>\n",
       "      <td>Old_UI</td>\n",
       "    </tr>\n",
       "  </tbody>\n",
       "</table>\n",
       "<p>15150 rows × 16 columns</p>\n",
       "</div>"
      ],
      "text/plain": [
       "        CustomerID   Age         Gender           City             State  \\\n",
       "0      CusID_00126  22.0           Male      Vancouver  British Columbia   \n",
       "1      CusID_00927  28.0         Female       Budapest   Central Hungary   \n",
       "2      CusID_01646  26.0           Male         Mumbai       Maharashtra   \n",
       "3      CusID_06228  28.0           Male  San Francisco        California   \n",
       "4      CusID_04239  29.0         Female         Taipei            Taiwan   \n",
       "...            ...   ...            ...            ...               ...   \n",
       "15145  CusID_01855  28.0  Not_Specified        Kolkata   New South Wales   \n",
       "15146  CusID_08497  25.0           Male         Sydney   New South Wales   \n",
       "15147  CusID_01667  32.0         Female  San Francisco         Singapore   \n",
       "15148  CusID_09014  32.0         Female         Sydney         New Delhi   \n",
       "15149  CusID_02218  22.0  Not_Specified         Berlin            Berlin   \n",
       "\n",
       "       No_of_orders_placed Sign_up_date Last_order_placed_date  \\\n",
       "0                      4.0   2017-06-23             2021-04-01   \n",
       "1                      9.0   2018-05-21             2020-01-26   \n",
       "2                      NaN   2019-02-15             2020-11-28   \n",
       "3                      7.0   2019-07-18             2020-11-16   \n",
       "4                      NaN   2018-02-05             2020-03-12   \n",
       "...                    ...          ...                    ...   \n",
       "15145                  6.0   2017-11-18             2020-07-24   \n",
       "15146                  8.0   2017-09-26             2020-03-11   \n",
       "15147                  7.0   2018-06-09             2021-04-05   \n",
       "15148                 10.0   2016-01-23             2020-08-23   \n",
       "15149                  1.0   2019-02-19             2020-01-15   \n",
       "\n",
       "       is_premium_member  Women’s_Clothing  Men’s_Clothing  Kid’s_Clothing  \\\n",
       "0                      0          2.945701        8.924431        2.000000   \n",
       "1                      0          6.115229        2.363926        6.968752   \n",
       "2                      0          1.000000        3.000000        1.766530   \n",
       "3                      0          2.116475        9.064060        5.387599   \n",
       "4                      0          7.352878        1.995744        2.676853   \n",
       "...                  ...               ...             ...             ...   \n",
       "15145                  0          1.074235        3.328216        9.075440   \n",
       "15146                  0          0.604496        6.349027        0.413908   \n",
       "15147                  1          3.812781        2.869684        6.213548   \n",
       "15148                  0          4.607484        1.370857        6.108666   \n",
       "15149                  1          4.232741        2.020077        5.651068   \n",
       "\n",
       "       Home_&_Living    Beauty  Electronics Preferred_Theme  \n",
       "0           2.325376  1.924891     9.820254          New_UI  \n",
       "1           7.355854  8.561461     2.162229          Old_UI  \n",
       "2           3.471802  0.808147     9.055563          New_UI  \n",
       "3                NaN  0.459090     7.343461          New_UI  \n",
       "4           7.159554  8.184695     2.000000          Old_UI  \n",
       "...              ...       ...          ...             ...  \n",
       "15145       5.929733  2.081818     4.225626          Old_UI  \n",
       "15146       4.159025  1.214793     8.482181          New_UI  \n",
       "15147            NaN  7.477459     2.861971          Old_UI  \n",
       "15148       7.324654  7.748538     5.009866          New_UI  \n",
       "15149       3.103405  4.312872     2.728655          Old_UI  \n",
       "\n",
       "[15150 rows x 16 columns]"
      ]
     },
     "execution_count": 58,
     "metadata": {},
     "output_type": "execute_result"
    }
   ],
   "source": [
    "df.Age.fillna(Avg_Age,inplace=True)\n",
    "df"
   ]
  },
  {
   "cell_type": "markdown",
   "id": "1a36b1bd",
   "metadata": {},
   "source": [
    "### 2. No_of_orders_placed"
   ]
  },
  {
   "cell_type": "code",
   "execution_count": 59,
   "id": "6ecd48fa",
   "metadata": {},
   "outputs": [],
   "source": [
    "# Here we don't have data so we cannot assume anything about no of orders. So, I will fill 0.\n",
    "df.No_of_orders_placed.fillna(0,inplace=True)"
   ]
  },
  {
   "cell_type": "markdown",
   "id": "5eb37594",
   "metadata": {},
   "source": [
    "### 3. Kid’s_Clothing & Home_&_Living\t"
   ]
  },
  {
   "cell_type": "code",
   "execution_count": 60,
   "id": "a4606dd5",
   "metadata": {},
   "outputs": [
    {
     "data": {
      "text/plain": [
       "-3.000000     4\n",
       "-2.000000     3\n",
       "-1.738291     1\n",
       "-1.000000    12\n",
       "-0.914823     1\n",
       "Name: Kid’s_Clothing, dtype: int64"
      ]
     },
     "execution_count": 60,
     "metadata": {},
     "output_type": "execute_result"
    }
   ],
   "source": [
    "df[\"Kid’s_Clothing\"].value_counts().sort_index().head()"
   ]
  },
  {
   "cell_type": "code",
   "execution_count": 61,
   "id": "c5056a88",
   "metadata": {},
   "outputs": [
    {
     "data": {
      "text/plain": [
       "-2.000000     6\n",
       "-1.000000     7\n",
       "-0.095266     1\n",
       "-0.018944     1\n",
       " 0.000000    28\n",
       "Name: Home_&_Living, dtype: int64"
      ]
     },
     "execution_count": 61,
     "metadata": {},
     "output_type": "execute_result"
    }
   ],
   "source": [
    "df['Home_&_Living'].value_counts().sort_index().head()"
   ]
  },
  {
   "cell_type": "code",
   "execution_count": 62,
   "id": "8fe65d42",
   "metadata": {},
   "outputs": [
    {
     "name": "stderr",
     "output_type": "stream",
     "text": [
      "<ipython-input-62-2be2ad27fdf2>:2: SettingWithCopyWarning: \n",
      "A value is trying to be set on a copy of a slice from a DataFrame\n",
      "\n",
      "See the caveats in the documentation: https://pandas.pydata.org/pandas-docs/stable/user_guide/indexing.html#returning-a-view-versus-a-copy\n",
      "  df[\"Kid’s_Clothing\"][df[\"Kid’s_Clothing\"]<0]=0\n",
      "<ipython-input-62-2be2ad27fdf2>:3: SettingWithCopyWarning: \n",
      "A value is trying to be set on a copy of a slice from a DataFrame\n",
      "\n",
      "See the caveats in the documentation: https://pandas.pydata.org/pandas-docs/stable/user_guide/indexing.html#returning-a-view-versus-a-copy\n",
      "  df[\"Home_&_Living\"][df[\"Home_&_Living\"]<0]=0\n"
     ]
    }
   ],
   "source": [
    "# Here we have -Ve but description suggests that it should be between 0 to 10. So, I will replace with Zero.\n",
    "df[\"Kid’s_Clothing\"][df[\"Kid’s_Clothing\"]<0]=0\n",
    "df[\"Home_&_Living\"][df[\"Home_&_Living\"]<0]=0"
   ]
  },
  {
   "cell_type": "code",
   "execution_count": 63,
   "id": "5b650290",
   "metadata": {},
   "outputs": [],
   "source": [
    "# Now we can fill NaN with avg of that column.\n",
    "df[\"Kid’s_Clothing\"].fillna(df[\"Kid’s_Clothing\"].mean(),inplace=True)\n",
    "df[\"Home_&_Living\"].fillna(df[\"Home_&_Living\"].mean(),inplace=True)"
   ]
  },
  {
   "cell_type": "code",
   "execution_count": 64,
   "id": "e677b8dd",
   "metadata": {
    "scrolled": true
   },
   "outputs": [
    {
     "name": "stdout",
     "output_type": "stream",
     "text": [
      "<class 'pandas.core.frame.DataFrame'>\n",
      "RangeIndex: 15150 entries, 0 to 15149\n",
      "Data columns (total 16 columns):\n",
      " #   Column                  Non-Null Count  Dtype  \n",
      "---  ------                  --------------  -----  \n",
      " 0   CustomerID              15150 non-null  object \n",
      " 1   Age                     15150 non-null  float64\n",
      " 2   Gender                  15150 non-null  object \n",
      " 3   City                    15150 non-null  object \n",
      " 4   State                   15150 non-null  object \n",
      " 5   No_of_orders_placed     15150 non-null  float64\n",
      " 6   Sign_up_date            15150 non-null  object \n",
      " 7   Last_order_placed_date  15150 non-null  object \n",
      " 8   is_premium_member       15150 non-null  int64  \n",
      " 9   Women’s_Clothing        15150 non-null  float64\n",
      " 10  Men’s_Clothing          15150 non-null  float64\n",
      " 11  Kid’s_Clothing          15150 non-null  float64\n",
      " 12  Home_&_Living           15150 non-null  float64\n",
      " 13  Beauty                  15150 non-null  float64\n",
      " 14  Electronics             15150 non-null  float64\n",
      " 15  Preferred_Theme         15150 non-null  object \n",
      "dtypes: float64(8), int64(1), object(7)\n",
      "memory usage: 1.8+ MB\n"
     ]
    }
   ],
   "source": [
    "# Now, we don't have missing data.\n",
    "df.info()"
   ]
  },
  {
   "cell_type": "code",
   "execution_count": 65,
   "id": "d7e46ec7",
   "metadata": {},
   "outputs": [
    {
     "data": {
      "text/plain": [
       "Mumbai           1131\n",
       "Vancouver        1104\n",
       "San Francisco     789\n",
       "Kolkata           765\n",
       "Chennai           752\n",
       "Sydney            744\n",
       "Toronto           734\n",
       "Budapest          733\n",
       "Taipei            723\n",
       "Berlin            642\n",
       "Munich            641\n",
       "Vienna            613\n",
       "Bercelona         599\n",
       "Shinjuku          596\n",
       "Los Angeles       571\n",
       "London            546\n",
       "Delhi             538\n",
       "New York City     534\n",
       "Paris             514\n",
       "Kuala Lampur      503\n",
       "Florence          486\n",
       "Perth             446\n",
       "?                 446\n",
       "Name: City, dtype: int64"
      ]
     },
     "execution_count": 65,
     "metadata": {},
     "output_type": "execute_result"
    }
   ],
   "source": [
    "df.City.value_counts()"
   ]
  },
  {
   "cell_type": "code",
   "execution_count": 66,
   "id": "c3e11ae9",
   "metadata": {
    "scrolled": true
   },
   "outputs": [],
   "source": [
    "# In city column we have some unknown city. So, it is better to write it properly.\n",
    "df.City.replace(\"?\",\"Unknown\",inplace=True)"
   ]
  },
  {
   "cell_type": "code",
   "execution_count": 67,
   "id": "bd6eaa48",
   "metadata": {},
   "outputs": [],
   "source": [
    "# Two date column are in object type. So, I have to conver into DateTime formate.\n",
    "df.Last_order_placed_date=pd.to_datetime(df.Last_order_placed_date)"
   ]
  },
  {
   "cell_type": "code",
   "execution_count": 68,
   "id": "1a79971e",
   "metadata": {},
   "outputs": [],
   "source": [
    "# In column Sign_up_date we have some \"?\" data. So, we have to handle that also\n",
    "# First replace with Avg date.\n",
    "df.Sign_up_date.replace(\"?\",\"2018-01-09\",inplace=True)\n",
    "# Convert into DateTime\n",
    "df.Sign_up_date=pd.to_datetime(df.Sign_up_date)"
   ]
  },
  {
   "cell_type": "code",
   "execution_count": 69,
   "id": "f6f951b3",
   "metadata": {
    "scrolled": true
   },
   "outputs": [
    {
     "name": "stdout",
     "output_type": "stream",
     "text": [
      "<class 'pandas.core.frame.DataFrame'>\n",
      "RangeIndex: 15150 entries, 0 to 15149\n",
      "Data columns (total 16 columns):\n",
      " #   Column                  Non-Null Count  Dtype         \n",
      "---  ------                  --------------  -----         \n",
      " 0   CustomerID              15150 non-null  object        \n",
      " 1   Age                     15150 non-null  float64       \n",
      " 2   Gender                  15150 non-null  object        \n",
      " 3   City                    15150 non-null  object        \n",
      " 4   State                   15150 non-null  object        \n",
      " 5   No_of_orders_placed     15150 non-null  float64       \n",
      " 6   Sign_up_date            15150 non-null  datetime64[ns]\n",
      " 7   Last_order_placed_date  15150 non-null  datetime64[ns]\n",
      " 8   is_premium_member       15150 non-null  int64         \n",
      " 9   Women’s_Clothing        15150 non-null  float64       \n",
      " 10  Men’s_Clothing          15150 non-null  float64       \n",
      " 11  Kid’s_Clothing          15150 non-null  float64       \n",
      " 12  Home_&_Living           15150 non-null  float64       \n",
      " 13  Beauty                  15150 non-null  float64       \n",
      " 14  Electronics             15150 non-null  float64       \n",
      " 15  Preferred_Theme         15150 non-null  object        \n",
      "dtypes: datetime64[ns](2), float64(8), int64(1), object(5)\n",
      "memory usage: 1.8+ MB\n"
     ]
    }
   ],
   "source": [
    "df.info()"
   ]
  },
  {
   "cell_type": "code",
   "execution_count": 70,
   "id": "daba14df",
   "metadata": {},
   "outputs": [],
   "source": [
    "df[\"Date_Diff\"]=df.Last_order_placed_date-df.Sign_up_date"
   ]
  },
  {
   "cell_type": "code",
   "execution_count": 78,
   "id": "cc90aac6",
   "metadata": {
    "scrolled": true
   },
   "outputs": [],
   "source": [
    "d_date=df.Date_Diff.astype(np.str0)"
   ]
  },
  {
   "cell_type": "code",
   "execution_count": 84,
   "id": "d3af931b",
   "metadata": {
    "scrolled": true
   },
   "outputs": [],
   "source": [
    "d_date=d_date.apply(lambda x:int(x.split()[0]))"
   ]
  },
  {
   "cell_type": "code",
   "execution_count": 85,
   "id": "10a05974",
   "metadata": {},
   "outputs": [],
   "source": [
    "df.Date_Diff=d_date"
   ]
  },
  {
   "cell_type": "code",
   "execution_count": 88,
   "id": "d9aed73b",
   "metadata": {},
   "outputs": [
    {
     "name": "stdout",
     "output_type": "stream",
     "text": [
      "<class 'pandas.core.frame.DataFrame'>\n",
      "RangeIndex: 15150 entries, 0 to 15149\n",
      "Data columns (total 17 columns):\n",
      " #   Column                  Non-Null Count  Dtype         \n",
      "---  ------                  --------------  -----         \n",
      " 0   CustomerID              15150 non-null  object        \n",
      " 1   Age                     15150 non-null  float64       \n",
      " 2   Gender                  15150 non-null  object        \n",
      " 3   City                    15150 non-null  object        \n",
      " 4   State                   15150 non-null  object        \n",
      " 5   No_of_orders_placed     15150 non-null  float64       \n",
      " 6   Sign_up_date            15150 non-null  datetime64[ns]\n",
      " 7   Last_order_placed_date  15150 non-null  datetime64[ns]\n",
      " 8   is_premium_member       15150 non-null  int64         \n",
      " 9   Women’s_Clothing        15150 non-null  float64       \n",
      " 10  Men’s_Clothing          15150 non-null  float64       \n",
      " 11  Kid’s_Clothing          15150 non-null  float64       \n",
      " 12  Home_&_Living           15150 non-null  float64       \n",
      " 13  Beauty                  15150 non-null  float64       \n",
      " 14  Electronics             15150 non-null  float64       \n",
      " 15  Preferred_Theme         15150 non-null  object        \n",
      " 16  Date_Diff               15150 non-null  int64         \n",
      "dtypes: datetime64[ns](2), float64(8), int64(2), object(5)\n",
      "memory usage: 2.0+ MB\n"
     ]
    }
   ],
   "source": [
    "df.info()"
   ]
  },
  {
   "cell_type": "code",
   "execution_count": 89,
   "id": "8d72b963",
   "metadata": {
    "scrolled": true
   },
   "outputs": [],
   "source": [
    "# Now we can drop CustomerID and dates columns so that we can use classifiers.\n",
    "df.drop(columns=[\"CustomerID\",\"Sign_up_date\",\"Last_order_placed_date\"],inplace=True)\n",
    "# Now we will separate columns.\n",
    "df=pd.get_dummies(df, prefix_sep='_',drop_first=True)"
   ]
  },
  {
   "cell_type": "code",
   "execution_count": 90,
   "id": "8344d007",
   "metadata": {},
   "outputs": [
    {
     "name": "stdout",
     "output_type": "stream",
     "text": [
      "<class 'pandas.core.frame.DataFrame'>\n",
      "RangeIndex: 15150 entries, 0 to 15149\n",
      "Data columns (total 55 columns):\n",
      " #   Column                   Non-Null Count  Dtype  \n",
      "---  ------                   --------------  -----  \n",
      " 0   Age                      15150 non-null  float64\n",
      " 1   No_of_orders_placed      15150 non-null  float64\n",
      " 2   is_premium_member        15150 non-null  int64  \n",
      " 3   Women’s_Clothing         15150 non-null  float64\n",
      " 4   Men’s_Clothing           15150 non-null  float64\n",
      " 5   Kid’s_Clothing           15150 non-null  float64\n",
      " 6   Home_&_Living            15150 non-null  float64\n",
      " 7   Beauty                   15150 non-null  float64\n",
      " 8   Electronics              15150 non-null  float64\n",
      " 9   Date_Diff                15150 non-null  int64  \n",
      " 10  Gender_Male              15150 non-null  uint8  \n",
      " 11  Gender_Not_Specified     15150 non-null  uint8  \n",
      " 12  City_Berlin              15150 non-null  uint8  \n",
      " 13  City_Budapest            15150 non-null  uint8  \n",
      " 14  City_Chennai             15150 non-null  uint8  \n",
      " 15  City_Delhi               15150 non-null  uint8  \n",
      " 16  City_Florence            15150 non-null  uint8  \n",
      " 17  City_Kolkata             15150 non-null  uint8  \n",
      " 18  City_Kuala Lampur        15150 non-null  uint8  \n",
      " 19  City_London              15150 non-null  uint8  \n",
      " 20  City_Los Angeles         15150 non-null  uint8  \n",
      " 21  City_Mumbai              15150 non-null  uint8  \n",
      " 22  City_Munich              15150 non-null  uint8  \n",
      " 23  City_New York City       15150 non-null  uint8  \n",
      " 24  City_Paris               15150 non-null  uint8  \n",
      " 25  City_Perth               15150 non-null  uint8  \n",
      " 26  City_San Francisco       15150 non-null  uint8  \n",
      " 27  City_Shinjuku            15150 non-null  uint8  \n",
      " 28  City_Sydney              15150 non-null  uint8  \n",
      " 29  City_Taipei              15150 non-null  uint8  \n",
      " 30  City_Toronto             15150 non-null  uint8  \n",
      " 31  City_Unknown             15150 non-null  uint8  \n",
      " 32  City_Vancouver           15150 non-null  uint8  \n",
      " 33  City_Vienna              15150 non-null  uint8  \n",
      " 34  State_Berlin             15150 non-null  uint8  \n",
      " 35  State_British Columbia   15150 non-null  uint8  \n",
      " 36  State_California         15150 non-null  uint8  \n",
      " 37  State_Catalonia          15150 non-null  uint8  \n",
      " 38  State_Central Hungary    15150 non-null  uint8  \n",
      " 39  State_England            15150 non-null  uint8  \n",
      " 40  State_Ile-De-France      15150 non-null  uint8  \n",
      " 41  State_Maharashtra        15150 non-null  uint8  \n",
      " 42  State_New Delhi          15150 non-null  uint8  \n",
      " 43  State_New South Wales    15150 non-null  uint8  \n",
      " 44  State_New York           15150 non-null  uint8  \n",
      " 45  State_Ontario            15150 non-null  uint8  \n",
      " 46  State_Singapore          15150 non-null  uint8  \n",
      " 47  State_Taiwan             15150 non-null  uint8  \n",
      " 48  State_Tamil Nadu         15150 non-null  uint8  \n",
      " 49  State_Tokyo              15150 non-null  uint8  \n",
      " 50  State_Tuscany            15150 non-null  uint8  \n",
      " 51  State_Vienna             15150 non-null  uint8  \n",
      " 52  State_West Bengal        15150 non-null  uint8  \n",
      " 53  State_Western Australia  15150 non-null  uint8  \n",
      " 54  Preferred_Theme_Old_UI   15150 non-null  uint8  \n",
      "dtypes: float64(8), int64(2), uint8(45)\n",
      "memory usage: 1.8 MB\n"
     ]
    }
   ],
   "source": [
    "df.info()"
   ]
  },
  {
   "cell_type": "markdown",
   "id": "2c35b7e2",
   "metadata": {},
   "source": [
    "# Now star with ML modeling"
   ]
  },
  {
   "cell_type": "code",
   "execution_count": 91,
   "id": "7f1a60e1",
   "metadata": {},
   "outputs": [],
   "source": [
    "X=df.drop(columns=[\"Preferred_Theme_Old_UI\"])\n",
    "y=df.Preferred_Theme_Old_UI.copy()"
   ]
  },
  {
   "cell_type": "code",
   "execution_count": 92,
   "id": "e2b5fb06",
   "metadata": {},
   "outputs": [],
   "source": [
    "X_train, X_test, y_train, y_test = train_test_split(X, y, test_size=0.20, random_state=42)"
   ]
  },
  {
   "cell_type": "raw",
   "id": "09408416",
   "metadata": {},
   "source": [
    "from sklearn.tree import DecisionTreeClassifier\n",
    "param_grid = {'max_depth': np.arange(3, 10),\n",
    "             'criterion' : ['gini','entropy'],\n",
    "             'max_leaf_nodes': [5,10,20,100],\n",
    "             'min_samples_split': [2, 5, 10, 20],\n",
    "             'class_weight' : ['balanced']}\n",
    "grid_tree = GridSearchCV(DecisionTreeClassifier(), param_grid, cv = 5, scoring= 'f1')\n",
    "grid_tree.fit(X_train, y_train)\n",
    "best = grid_tree.best_estimator_\n",
    "classifier = best\n",
    "classifier.fit(X_train, y_train)\n",
    "predictions = classifier.predict(X_test)\n",
    "print(f1_score(y_true = y_test, y_pred = predictions))"
   ]
  },
  {
   "cell_type": "code",
   "execution_count": 93,
   "id": "528136d0",
   "metadata": {},
   "outputs": [
    {
     "data": {
      "text/plain": [
       "0.6808580858085809"
      ]
     },
     "execution_count": 93,
     "metadata": {},
     "output_type": "execute_result"
    }
   ],
   "source": [
    "# DecisionTreeClassifier\n",
    "from sklearn.tree import DecisionTreeClassifier\n",
    "classifier = DecisionTreeClassifier(max_depth=10, random_state=14) \n",
    "# training the classifier\n",
    "classifier.fit(X_train, y_train)\n",
    "# do our predictions on the test\n",
    "predictions = classifier.predict(X_test)\n",
    "# see how good we did on the test\n",
    "accuracy_score(y_true = y_test, y_pred = predictions)"
   ]
  },
  {
   "cell_type": "code",
   "execution_count": 94,
   "id": "2b2f7923",
   "metadata": {},
   "outputs": [
    {
     "name": "stderr",
     "output_type": "stream",
     "text": [
      "C:\\Users\\t-sarthak\\Anaconda3\\lib\\site-packages\\sklearn\\linear_model\\_logistic.py:763: ConvergenceWarning: lbfgs failed to converge (status=1):\n",
      "STOP: TOTAL NO. of ITERATIONS REACHED LIMIT.\n",
      "\n",
      "Increase the number of iterations (max_iter) or scale the data as shown in:\n",
      "    https://scikit-learn.org/stable/modules/preprocessing.html\n",
      "Please also refer to the documentation for alternative solver options:\n",
      "    https://scikit-learn.org/stable/modules/linear_model.html#logistic-regression\n",
      "  n_iter_i = _check_optimize_result(\n"
     ]
    },
    {
     "data": {
      "text/plain": [
       "0.6673267326732674"
      ]
     },
     "execution_count": 94,
     "metadata": {},
     "output_type": "execute_result"
    }
   ],
   "source": [
    "# LogisticRegression\n",
    "from sklearn.linear_model import LogisticRegression\n",
    "classifier = LogisticRegression(random_state = 0)\n",
    "classifier.fit(X_train, y_train)\n",
    "y_pred = classifier.predict(X_test)\n",
    "accuracy_score(y_test, y_pred)"
   ]
  },
  {
   "cell_type": "code",
   "execution_count": 95,
   "id": "88797d6a",
   "metadata": {},
   "outputs": [
    {
     "data": {
      "text/plain": [
       "0.7254125412541255"
      ]
     },
     "execution_count": 95,
     "metadata": {},
     "output_type": "execute_result"
    }
   ],
   "source": [
    "# RandomForestClassifier\n",
    "from sklearn.ensemble import RandomForestClassifier\n",
    "clf=RandomForestClassifier(n_estimators=100)\n",
    "clf.fit(X_train,y_train)\n",
    "y_pred=clf.predict(X_test)\n",
    "accuracy_score(y_test, y_pred)"
   ]
  },
  {
   "cell_type": "markdown",
   "id": "3e161481",
   "metadata": {},
   "source": [
    "# After comparison I will use Random Forest Classifier for final model."
   ]
  },
  {
   "cell_type": "code",
   "execution_count": 26,
   "id": "bc765bfa",
   "metadata": {},
   "outputs": [],
   "source": [
    "# Now I have to clean test data also\n",
    "df_test=pd.read_csv(\"test.csv\")\n",
    "df_test_data=df_test.copy()"
   ]
  },
  {
   "cell_type": "code",
   "execution_count": 27,
   "id": "3a4a0677",
   "metadata": {},
   "outputs": [],
   "source": [
    "df_Age=df_test.Age.value_counts().sort_index().reset_index()\n",
    "df_Age.head()\n",
    "# For Age feature I can take average and put instant of NaN. Because I have age range between 15 to 50.\n",
    "# Also the distribution is not uniform. So I will wetted average.\n",
    "Age_Total=df_Age.Age.sum()\n",
    "df_Age[\"Age_Weightage\"]=df_Age[\"Age\"]/Age_Total\n",
    "df_Age[\"Age_Weightage\"]*=df_Age['index']\n",
    "Avg_Age=int(df_Age.Age_Weightage.sum())\n",
    "df_test.Age.fillna(Avg_Age,inplace=True)"
   ]
  },
  {
   "cell_type": "code",
   "execution_count": 28,
   "id": "d29f0689",
   "metadata": {},
   "outputs": [],
   "source": [
    "# Here we don't have data so we cannot assume anything about no of orders. So, I will fill 0.\n",
    "df_test.No_of_orders_placed.fillna(0,inplace=True)"
   ]
  },
  {
   "cell_type": "code",
   "execution_count": 29,
   "id": "5a76e00f",
   "metadata": {},
   "outputs": [
    {
     "name": "stderr",
     "output_type": "stream",
     "text": [
      "<ipython-input-29-2d420700ba7d>:2: SettingWithCopyWarning: \n",
      "A value is trying to be set on a copy of a slice from a DataFrame\n",
      "\n",
      "See the caveats in the documentation: https://pandas.pydata.org/pandas-docs/stable/user_guide/indexing.html#returning-a-view-versus-a-copy\n",
      "  df_test[\"Kid’s_Clothing\"][df_test[\"Kid’s_Clothing\"]<0]=0\n",
      "<ipython-input-29-2d420700ba7d>:3: SettingWithCopyWarning: \n",
      "A value is trying to be set on a copy of a slice from a DataFrame\n",
      "\n",
      "See the caveats in the documentation: https://pandas.pydata.org/pandas-docs/stable/user_guide/indexing.html#returning-a-view-versus-a-copy\n",
      "  df_test[\"Home_&_Living\"][df_test[\"Home_&_Living\"]<0]=0\n"
     ]
    }
   ],
   "source": [
    "# Here we have -Ve but description suggests that it should be between 0 to 10. So, I will replace with Zero.\n",
    "df_test[\"Kid’s_Clothing\"][df_test[\"Kid’s_Clothing\"]<0]=0\n",
    "df_test[\"Home_&_Living\"][df_test[\"Home_&_Living\"]<0]=0"
   ]
  },
  {
   "cell_type": "code",
   "execution_count": 30,
   "id": "2ff21511",
   "metadata": {},
   "outputs": [],
   "source": [
    "# Now we can fill NaN with avg of that column.\n",
    "df_test[\"Kid’s_Clothing\"].fillna(df_test[\"Kid’s_Clothing\"].mean(),inplace=True)\n",
    "df_test[\"Home_&_Living\"].fillna(df_test[\"Home_&_Living\"].mean(),inplace=True)"
   ]
  },
  {
   "cell_type": "code",
   "execution_count": 31,
   "id": "b19b88de",
   "metadata": {},
   "outputs": [],
   "source": [
    "# In city column we have some unknown city. So, it is better to write it properly.\n",
    "df_test.City.replace(\"?\",\"Unknown\",inplace=True)\n",
    "\n",
    "# Two date column are in object type. So, I have to conver into DateTime formate.\n",
    "df_test.Last_order_placed_date=pd.to_datetime(df_test.Last_order_placed_date)\n",
    " \n",
    "# In column Sign_up_date we have some \"?\" data. So, we have to handle that also\n",
    "# First replace with Avg date.\n",
    "df_test.Sign_up_date.replace(\"?\",\"2018-01-09\",inplace=True)\n",
    "# Convert into DateTime\n",
    "df_test.Sign_up_date=pd.to_datetime(df_test.Sign_up_date)\n"
   ]
  },
  {
   "cell_type": "code",
   "execution_count": 32,
   "id": "debec14e",
   "metadata": {},
   "outputs": [],
   "source": [
    "# Now we can drop CustomerID and dates columns so that we can use classifiers.\n",
    "df_test.drop(columns=[\"CustomerID\",\"Sign_up_date\",\"Last_order_placed_date\"],inplace=True)\n",
    "# Now we will separate columns.\n",
    "df_test=pd.get_dummies(df_test, prefix_sep='_',drop_first=True)"
   ]
  },
  {
   "cell_type": "code",
   "execution_count": 33,
   "id": "097d0b17",
   "metadata": {},
   "outputs": [
    {
     "name": "stdout",
     "output_type": "stream",
     "text": [
      "<class 'pandas.core.frame.DataFrame'>\n",
      "RangeIndex: 1850 entries, 0 to 1849\n",
      "Data columns (total 53 columns):\n",
      " #   Column                   Non-Null Count  Dtype  \n",
      "---  ------                   --------------  -----  \n",
      " 0   Age                      1850 non-null   float64\n",
      " 1   No_of_orders_placed      1850 non-null   float64\n",
      " 2   is_premium_member        1850 non-null   int64  \n",
      " 3   Women’s_Clothing         1850 non-null   float64\n",
      " 4   Men’s_Clothing           1850 non-null   float64\n",
      " 5   Kid’s_Clothing           1850 non-null   float64\n",
      " 6   Home_&_Living            1850 non-null   float64\n",
      " 7   Beauty                   1850 non-null   float64\n",
      " 8   Electronics              1850 non-null   float64\n",
      " 9   Gender_Male              1850 non-null   uint8  \n",
      " 10  Gender_Not_Specified     1850 non-null   uint8  \n",
      " 11  City_Berlin              1850 non-null   uint8  \n",
      " 12  City_Budapest            1850 non-null   uint8  \n",
      " 13  City_Chennai             1850 non-null   uint8  \n",
      " 14  City_Delhi               1850 non-null   uint8  \n",
      " 15  City_Florence            1850 non-null   uint8  \n",
      " 16  City_Kolkata             1850 non-null   uint8  \n",
      " 17  City_Kuala Lampur        1850 non-null   uint8  \n",
      " 18  City_London              1850 non-null   uint8  \n",
      " 19  City_Los Angeles         1850 non-null   uint8  \n",
      " 20  City_Mumbai              1850 non-null   uint8  \n",
      " 21  City_Munich              1850 non-null   uint8  \n",
      " 22  City_New York City       1850 non-null   uint8  \n",
      " 23  City_Paris               1850 non-null   uint8  \n",
      " 24  City_Perth               1850 non-null   uint8  \n",
      " 25  City_San Francisco       1850 non-null   uint8  \n",
      " 26  City_Shinjuku            1850 non-null   uint8  \n",
      " 27  City_Sydney              1850 non-null   uint8  \n",
      " 28  City_Taipei              1850 non-null   uint8  \n",
      " 29  City_Toronto             1850 non-null   uint8  \n",
      " 30  City_Unknown             1850 non-null   uint8  \n",
      " 31  City_Vancouver           1850 non-null   uint8  \n",
      " 32  City_Vienna              1850 non-null   uint8  \n",
      " 33  State_Berlin             1850 non-null   uint8  \n",
      " 34  State_British Columbia   1850 non-null   uint8  \n",
      " 35  State_California         1850 non-null   uint8  \n",
      " 36  State_Catalonia          1850 non-null   uint8  \n",
      " 37  State_Central Hungary    1850 non-null   uint8  \n",
      " 38  State_England            1850 non-null   uint8  \n",
      " 39  State_Ile-De-France      1850 non-null   uint8  \n",
      " 40  State_Maharashtra        1850 non-null   uint8  \n",
      " 41  State_New Delhi          1850 non-null   uint8  \n",
      " 42  State_New South Wales    1850 non-null   uint8  \n",
      " 43  State_New York           1850 non-null   uint8  \n",
      " 44  State_Ontario            1850 non-null   uint8  \n",
      " 45  State_Singapore          1850 non-null   uint8  \n",
      " 46  State_Taiwan             1850 non-null   uint8  \n",
      " 47  State_Tamil Nadu         1850 non-null   uint8  \n",
      " 48  State_Tokyo              1850 non-null   uint8  \n",
      " 49  State_Tuscany            1850 non-null   uint8  \n",
      " 50  State_Vienna             1850 non-null   uint8  \n",
      " 51  State_West Bengal        1850 non-null   uint8  \n",
      " 52  State_Western Australia  1850 non-null   uint8  \n",
      "dtypes: float64(8), int64(1), uint8(44)\n",
      "memory usage: 209.7 KB\n"
     ]
    }
   ],
   "source": [
    "df_test.info()"
   ]
  },
  {
   "cell_type": "code",
   "execution_count": 34,
   "id": "b5d6aa6e",
   "metadata": {},
   "outputs": [],
   "source": [
    "y_pred=clf.predict(df_test)"
   ]
  },
  {
   "cell_type": "code",
   "execution_count": 35,
   "id": "809e549a",
   "metadata": {},
   "outputs": [],
   "source": [
    "df_test_data[\"Preferred_Theme\"]=y_pred\n",
    "df_test_data.Preferred_Theme.replace(1,\"Old_UI\",inplace=True)\n",
    "df_test_data.Preferred_Theme.replace(0,\"New_UI\",inplace=True)"
   ]
  },
  {
   "cell_type": "code",
   "execution_count": 36,
   "id": "5065677f",
   "metadata": {},
   "outputs": [],
   "source": [
    "Final=df_test_data[[\"CustomerID\",\"Preferred_Theme\"]]"
   ]
  },
  {
   "cell_type": "code",
   "execution_count": 37,
   "id": "f2447d61",
   "metadata": {},
   "outputs": [],
   "source": [
    "Final.set_index('CustomerID', inplace=True)"
   ]
  },
  {
   "cell_type": "code",
   "execution_count": 38,
   "id": "b4709f13",
   "metadata": {},
   "outputs": [],
   "source": [
    "Final.to_csv(\"submission.csv\")"
   ]
  },
  {
   "cell_type": "code",
   "execution_count": null,
   "id": "90a9c1a7",
   "metadata": {},
   "outputs": [],
   "source": []
  }
 ],
 "metadata": {
  "kernelspec": {
   "display_name": "Python 3",
   "language": "python",
   "name": "python3"
  },
  "language_info": {
   "codemirror_mode": {
    "name": "ipython",
    "version": 3
   },
   "file_extension": ".py",
   "mimetype": "text/x-python",
   "name": "python",
   "nbconvert_exporter": "python",
   "pygments_lexer": "ipython3",
   "version": "3.8.8"
  }
 },
 "nbformat": 4,
 "nbformat_minor": 5
}
